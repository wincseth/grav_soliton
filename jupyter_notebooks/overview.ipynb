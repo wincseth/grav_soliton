{
 "cells": [
  {
   "cell_type": "markdown",
   "metadata": {},
   "source": [
    "# A summary on the numerical calculations for gravitational solitons and results from incresingly relativistic parameters\n",
    "\n",
    "#### Authors: Xavier Naranjo, Jacob Herman, Seth Winchell | supervision/theory from Dr.'s S.S. Chabysheva and J.R. Hiller\n",
    "\n",
    "#### August 2024 | project dates from May to August 2024\n",
    "\n",
    "## Overview:\n",
    "\n",
    "This notebook covers the computational methods and results for the project exploring how current interpretations of massive particles under its own quantum mechanical and gravitational influence behave with (ultra)relativistic parameters.\n",
    "\n",
    "The numerical calculations and theory interpret a particle both quantum mechanically and classically (aka with gravity), taking advantage of spherical symmetry. The particle's location is represented as a quantum mechanical mass distribution/wave function using the Klein-Gordon equation, which takes into account a spherically symmetric metric and is a relativistic representation of the Schrodinger equation. A scaled binding energy of $\\epsilon$ is extracted from that equation and is used to solved the metric equations for the particle, represented as two first order differential equations - one for time ($g_{00}$) and one for radius ($g_{rr}$). The resulting metrics are put back into the Klein-Gordon equation for an adjusted resulting $\\epsilon$ value and the process is repeated until it converges to a desirable tolerance.\n",
    "\n",
    "The main independent parameter being studied is the ratio of the Bohr radius ($a$) and Schwarchild radius ($r_s$), defined as $\\zeta_{s}={r_s}/a=2G^{2}m^{4}$. As this ratio approaches and passes 1, the relativistic self-gravitation of the particle becomes more important to consider as the wave function is altered by the curved metric."
   ]
  },
  {
   "cell_type": "markdown",
   "metadata": {},
   "source": [
    "## 1. Methodology"
   ]
  },
  {
   "cell_type": "markdown",
   "metadata": {},
   "source": [
    "## 2. Results and Data"
   ]
  },
  {
   "cell_type": "markdown",
   "metadata": {},
   "source": [
    "### 2.1. $\\epsilon$ and $A_{0}$ vs. $\\zeta_{s}$"
   ]
  },
  {
   "cell_type": "markdown",
   "metadata": {},
   "source": [
    "### 2.2. Schwarchild mass and expectation values"
   ]
  },
  {
   "cell_type": "markdown",
   "metadata": {},
   "source": [
    "### 2.3. Data modeling for critical $\\zeta_s$"
   ]
  },
  {
   "cell_type": "markdown",
   "metadata": {},
   "source": [
    "## 3. Conclusions and Future Work"
   ]
  },
  {
   "cell_type": "markdown",
   "metadata": {},
   "source": []
  }
 ],
 "metadata": {
  "language_info": {
   "name": "python"
  }
 },
 "nbformat": 4,
 "nbformat_minor": 2
}
