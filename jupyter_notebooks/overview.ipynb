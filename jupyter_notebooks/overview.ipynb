{
 "cells": [
  {
   "cell_type": "markdown",
   "metadata": {},
   "source": [
    "# A summary of the numerical calculations for gravitational solitons and its results from incresingly relativistic parameters\n",
    "\n",
    "#### Authors: Xavier Naranjo, Jacob Herman, Seth Winchell | supervision/theory from Dr.'s S.S. Chabysheva and J.R. Hiller\n",
    "\n",
    "#### August 2024 | project dates from May to August 2024\n",
    "\n",
    "## Overview:\n",
    "\n",
    "This notebook covers the computational methods and results for the project exploring how current interpretations of massive particles under its own quantum mechanical and gravitational influence behave with (ultra)relativistic parameters.\n",
    "\n",
    "The numerical calculations and theory interpret a particle both quantum mechanically and classically (aka with gravity), taking advantage of spherical symmetry. The particle's location is represented as a quantum mechanical mass distribution/wave function using the Klein-Gordon equation, which takes into account a spherically symmetric metric and is a relativistic representation of the Schrodinger equation. A scaled binding energy of $\\epsilon$ is extracted from that equation and is used to solved the metric equations for the particle, represented as two first order differential equations - one for time ($g_{00}$) and one for radius ($g_{rr}$). The resulting metrics are put back into the Klein-Gordon equation for an adjusted resulting $\\epsilon$ value and the process is repeated until it converges to a desirable tolerance.\n",
    "\n",
    "The main independent parameter being studied is the ratio of the Bohr radius ($a$) and Schwarchild radius ($r_s$), defined as $\\zeta_{s}={r_s}/a=2G^{2}m^{4}$. As this ratio approaches and passes 1, the relativistic self-gravitation of the particle becomes more important to consider as the wave function is altered by the curved metric."
   ]
  },
  {
   "cell_type": "markdown",
   "metadata": {},
   "source": [
    "## 1. Methodology\n",
    "\n",
    "Two sets of Python code were developed with the same functions in mind in order to verify and help troubleshoot the process - the code sets are similar in structure and methods from the collaborative nature of the project, where smaller differences are explained as needed. The functions used in data generation only involve the ``numpy`` library for data manipulation. All calculations are made with a rescaled unit system to ensure values are within floating point computer precision: $\\bar h=1$, $c=1$, $G=6.7 \\times 10^{-39} GeV^{-2}$.\n",
    "\n",
    "For data at a desired $\\zeta_s$ value, a set of grid points need to be made to perform calculations at, defined as $N$ intervals in a $\\zeta_{max}=r_{max}/a$ grid size, where the grid steps are $\\Delta = \\zeta_{max}/(N+1)$. The resulting algorithm flow is as follows:\n",
    "\n",
    "1. **Generate initial data** by either reading existing data or using a fixed guess for the metric and wave function at nonrelativistic conditions ($\\zeta_s = 0$).\n",
    "2. Use values for the metric, expressed as $g_{00}=e^{2A}$ and $g_{rr}=e^{2B}$, as inputs for the **Klein-Gordon equation**. Then, solve the eigenvector-eigenvalue problem associated with the equation to get the **rescaled energy ($\\epsilon$) and modified radial wave function, defined as $\\bar u(\\zeta)$**.\n",
    "3. Use $\\epsilon$ and $\\bar u$ from the previous step to solve the two **ODEs that come from Einstein's equations**. **Solve for $A$ and $B$**, the exponential factors for the $g_{00}$ and $g_{rr}$ metric components.\n",
    "4. **Repeat (loop) steps 2 and 3** to get improved $\\epsilon$, $\\bar u$, $g_{00}$, and $g_{rr}$ values until $\\epsilon$ converges to a specified tolerance.\n",
    "5. Steps 2-4 apply for a single $\\zeta_s$ value; a $\\zeta_s$ value too far from 0 (>0.1) needs intermediate $\\zeta_s$ values to loop though so that the incoming approximations are not too far off for a non-converging algorithm. For example, if data at $\\zeta_s = 0.7$ is needed, step 1 will be done once for $\\zeta_s = 0$ and the results from step 4 will be used as inputs for step 2 (another loop), this time with a slightly higher $\\zeta_s$ like 0.05, and **$\\zeta_s$ will be incremented slightly (repeat steps 2-4)** until $\\zeta_s = 0.7$ is reached. The more intermediate steps of $\\zeta_s$ are taken, the more accurate the calculations become."
   ]
  },
  {
   "cell_type": "markdown",
   "metadata": {},
   "source": [
    "### 1.1. Initial data with fixed metric\n",
    "\n",
    "Since the Klein-Gordon equation needs input arrays for A and B (exponential factors for $g_{00}$ and $g_{rr}$) before it can iterate between itself and the metric ODEs, it needs to read in an approximate AB data set from either a ``.csv`` file (done easily with ``pandas``) or by a generated metric. The scripts use the metric definition of a solid mass boundary from https://arxiv.org/abs/1711.00735 to create an initial guess for the metric, for low $\\zeta_s$ values. Outside the mass boundary $r_0$ for this type of metric, the Schwarzchild definition is used:\n",
    "\n",
    "\\begin{equation}\n",
    "    g_{00} = 1 - \\frac{\\zeta_s}{\\zeta}, g_{rr} = \\frac{1}{g_{00}}\n",
    "\\end{equation}\n",
    "\n",
    "And for inside the hard mass boundary:\n",
    "\n",
    "\\begin{equation}\n",
    "    g_{00} = \\frac{1}{4}[3\\sqrt{f(r_0)} - \\sqrt{f(r)}]^2, g_{rr} = 1/f(r)\n",
    "\\end{equation}\n",
    "\n",
    "where $f(r) = 1 - \\frac{r_s}{r_s^3}r^2$. These functions are named ``find_fixed_metric()`` and are rescaled to use $\\zeta$ instead of $r$."
   ]
  },
  {
   "cell_type": "markdown",
   "metadata": {},
   "source": [
    "### 1.2. Klein-Gordon Equation\n",
    "\n",
    "The Klein-Gordon equation used for the calculations is simplified to use spherically symmetric spacetimes, the rescaled radial equation $\\bar u$, and the ground state angular momentum quantum number $l=0$. This turns it into a matrix-eigenvalue problem from the equation:\n",
    "\n",
    "\\begin{equation}\n",
    "    -\\sqrt{\\frac{g_{00}}{g_{rr}}}\\frac{d^2}{d\\zeta^2}[\\sqrt{\\frac{g_{00}}{g_{rr}}}\\bar u]+\\frac{g_{00}}{g_{rr}}\\frac{\\tilde h``}{\\tilde h}\\bar u + \\frac{2}{\\zeta_s}g_{00}[1-\\frac{1}{g_{00}}]\\bar u = \\lambda \\bar u\n",
    "\\end{equation}\n",
    "\n",
    "$g_{00}[1-1/g_{00}]$ is approximated with $2{e^A}sinh(A)$ and the second derivative term is calculated using a finite differences approach. (continue here)"
   ]
  },
  {
   "cell_type": "markdown",
   "metadata": {},
   "source": [
    "## 2. Results and Data"
   ]
  },
  {
   "cell_type": "markdown",
   "metadata": {},
   "source": [
    "### 2.1. $\\epsilon$ and $A_{0}$ vs. $\\zeta_{s}$"
   ]
  },
  {
   "cell_type": "markdown",
   "metadata": {},
   "source": [
    "### 2.2. Schwarchild mass and expectation values"
   ]
  },
  {
   "cell_type": "markdown",
   "metadata": {},
   "source": [
    "### 2.3. Data modeling for critical $\\zeta_s$"
   ]
  },
  {
   "cell_type": "markdown",
   "metadata": {},
   "source": [
    "## 3. Conclusions and Future Work"
   ]
  },
  {
   "cell_type": "markdown",
   "metadata": {},
   "source": []
  }
 ],
 "metadata": {
  "language_info": {
   "name": "python"
  }
 },
 "nbformat": 4,
 "nbformat_minor": 2
}
